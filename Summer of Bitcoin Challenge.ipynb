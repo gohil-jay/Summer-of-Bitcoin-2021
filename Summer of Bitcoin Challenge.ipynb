{
  "nbformat": 4,
  "nbformat_minor": 0,
  "metadata": {
    "colab": {
      "name": "Summer of Bitcoin Challenge.ipynb",
      "provenance": [],
      "collapsed_sections": []
    },
    "kernelspec": {
      "name": "python3",
      "display_name": "Python 3"
    }
  },
  "cells": [
    {
      "cell_type": "markdown",
      "metadata": {
        "id": "U6W0fZSaQYTF"
      },
      "source": [
        "# **Summer of Bitcoin Challenge**\n",
        "\n",
        "~ Jay Gohil\n",
        "\n",
        "---"
      ]
    },
    {
      "cell_type": "code",
      "metadata": {
        "id": "STPCstdmEaep"
      },
      "source": [
        "# Importing libraries\n",
        "import pandas as pd\n",
        "\n",
        "# Defining few global values....\n",
        "max_weight = 4000000\n",
        "block_weight = 0\n",
        "block_fee = 0\n",
        "included_transactions = []\n",
        "data = '/content/drive/MyDrive/Colab Notebooks/Summer of Bitcoin/mempool.csv'"
      ],
      "execution_count": 1,
      "outputs": []
    },
    {
      "cell_type": "code",
      "metadata": {
        "id": "2ke4UbnkSGlJ"
      },
      "source": [
        "# Function to check whether transaction should be allowed to be added to block transactions or not.\n",
        "# This function checks parent requirements only, as weight threshold check is done later.\n",
        "\n",
        "def allow_tx(id):\n",
        "  if id == \"None\": #If there's no parent, allow transaction.\n",
        "    return True\n",
        "  temp_id = id.split(';') #If there are parents, split them into an array.\n",
        "\n",
        "  # Check if all of parents are present in pre-transaction list\n",
        "  return (set(temp_id).issubset(set(included_transactions)))"
      ],
      "execution_count": 2,
      "outputs": []
    },
    {
      "cell_type": "code",
      "metadata": {
        "colab": {
          "base_uri": "https://localhost:8080/",
          "height": 402
        },
        "id": "DpzmLZ5BOG5n",
        "outputId": "7640b845-1dfd-46c6-fa66-328f0df0acb1"
      },
      "source": [
        "# Read CSV file, and create a pandas dataframe for viable accessibility\n",
        "df = pd.read_csv(data)\n",
        "\n",
        "# Printing the dataframe\n",
        "df"
      ],
      "execution_count": 3,
      "outputs": [
        {
          "output_type": "execute_result",
          "data": {
            "text/html": [
              "<div>\n",
              "<style scoped>\n",
              "    .dataframe tbody tr th:only-of-type {\n",
              "        vertical-align: middle;\n",
              "    }\n",
              "\n",
              "    .dataframe tbody tr th {\n",
              "        vertical-align: top;\n",
              "    }\n",
              "\n",
              "    .dataframe thead th {\n",
              "        text-align: right;\n",
              "    }\n",
              "</style>\n",
              "<table border=\"1\" class=\"dataframe\">\n",
              "  <thead>\n",
              "    <tr style=\"text-align: right;\">\n",
              "      <th></th>\n",
              "      <th>tx_id</th>\n",
              "      <th>fee</th>\n",
              "      <th>weight</th>\n",
              "      <th>parents</th>\n",
              "    </tr>\n",
              "  </thead>\n",
              "  <tbody>\n",
              "    <tr>\n",
              "      <th>0</th>\n",
              "      <td>2e3da8fbc1eaca8ed9b7c2db9e6545d8ccac3c67deadee...</td>\n",
              "      <td>452</td>\n",
              "      <td>1620</td>\n",
              "      <td>NaN</td>\n",
              "    </tr>\n",
              "    <tr>\n",
              "      <th>1</th>\n",
              "      <td>79c51c9d4124c5cbb37a85263748dcf44e182dff83561f...</td>\n",
              "      <td>682</td>\n",
              "      <td>1136</td>\n",
              "      <td>6eb38fad135e38a93cb47a15a5f953cbc0563fd84bf1ab...</td>\n",
              "    </tr>\n",
              "    <tr>\n",
              "      <th>2</th>\n",
              "      <td>b0ef627c8dc2a706475d33d7712209ec779f7a8302aaea...</td>\n",
              "      <td>226</td>\n",
              "      <td>900</td>\n",
              "      <td>NaN</td>\n",
              "    </tr>\n",
              "    <tr>\n",
              "      <th>3</th>\n",
              "      <td>8c25f9be93990b96e8bc363778d6debee6867c7d73cefa...</td>\n",
              "      <td>258</td>\n",
              "      <td>1032</td>\n",
              "      <td>NaN</td>\n",
              "    </tr>\n",
              "    <tr>\n",
              "      <th>4</th>\n",
              "      <td>edc82751537be6afcb21c0229d8d20916d8e742a363ab2...</td>\n",
              "      <td>452</td>\n",
              "      <td>1616</td>\n",
              "      <td>NaN</td>\n",
              "    </tr>\n",
              "    <tr>\n",
              "      <th>...</th>\n",
              "      <td>...</td>\n",
              "      <td>...</td>\n",
              "      <td>...</td>\n",
              "      <td>...</td>\n",
              "    </tr>\n",
              "    <tr>\n",
              "      <th>5209</th>\n",
              "      <td>e0b5d2fe598fccdd716df743323346da227dfc9d2a6c3e...</td>\n",
              "      <td>850</td>\n",
              "      <td>568</td>\n",
              "      <td>NaN</td>\n",
              "    </tr>\n",
              "    <tr>\n",
              "      <th>5210</th>\n",
              "      <td>e33973618a9774aeb85548368efeaddb206ef206717e72...</td>\n",
              "      <td>1496</td>\n",
              "      <td>1488</td>\n",
              "      <td>NaN</td>\n",
              "    </tr>\n",
              "    <tr>\n",
              "      <th>5211</th>\n",
              "      <td>88a8c7118ac82199523eb10670f49c8b7f5ac82d404907...</td>\n",
              "      <td>1121</td>\n",
              "      <td>900</td>\n",
              "      <td>33c7c7bcb1cc07743fc3240cac6af31e4d4a8f535cae71...</td>\n",
              "    </tr>\n",
              "    <tr>\n",
              "      <th>5212</th>\n",
              "      <td>4c5b18c0870665958fc2a377e425b70f8d01f03395af72...</td>\n",
              "      <td>862</td>\n",
              "      <td>576</td>\n",
              "      <td>NaN</td>\n",
              "    </tr>\n",
              "    <tr>\n",
              "      <th>5213</th>\n",
              "      <td>631dee801c00241fc61bccc56112cf7670ce7150f4c642...</td>\n",
              "      <td>850</td>\n",
              "      <td>568</td>\n",
              "      <td>NaN</td>\n",
              "    </tr>\n",
              "  </tbody>\n",
              "</table>\n",
              "<p>5214 rows × 4 columns</p>\n",
              "</div>"
            ],
            "text/plain": [
              "                                                  tx_id  ...                                           parents \n",
              "0     2e3da8fbc1eaca8ed9b7c2db9e6545d8ccac3c67deadee...  ...                                                NaN\n",
              "1     79c51c9d4124c5cbb37a85263748dcf44e182dff83561f...  ...  6eb38fad135e38a93cb47a15a5f953cbc0563fd84bf1ab...\n",
              "2     b0ef627c8dc2a706475d33d7712209ec779f7a8302aaea...  ...                                                NaN\n",
              "3     8c25f9be93990b96e8bc363778d6debee6867c7d73cefa...  ...                                                NaN\n",
              "4     edc82751537be6afcb21c0229d8d20916d8e742a363ab2...  ...                                                NaN\n",
              "...                                                 ...  ...                                                ...\n",
              "5209  e0b5d2fe598fccdd716df743323346da227dfc9d2a6c3e...  ...                                                NaN\n",
              "5210  e33973618a9774aeb85548368efeaddb206ef206717e72...  ...                                                NaN\n",
              "5211  88a8c7118ac82199523eb10670f49c8b7f5ac82d404907...  ...  33c7c7bcb1cc07743fc3240cac6af31e4d4a8f535cae71...\n",
              "5212  4c5b18c0870665958fc2a377e425b70f8d01f03395af72...  ...                                                NaN\n",
              "5213  631dee801c00241fc61bccc56112cf7670ce7150f4c642...  ...                                                NaN\n",
              "\n",
              "[5214 rows x 4 columns]"
            ]
          },
          "metadata": {
            "tags": []
          },
          "execution_count": 3
        }
      ]
    },
    {
      "cell_type": "code",
      "metadata": {
        "id": "Dbz-nXa8OPXq",
        "colab": {
          "base_uri": "https://localhost:8080/",
          "height": 402
        },
        "outputId": "c0e9d785-75fb-4a1e-b3c6-18b2c5889d83"
      },
      "source": [
        "# Sorting the dataframe to keep highest-fee transactions first\n",
        "sorted_df = df.sort_values(by='fee', ascending=False)\n",
        "\n",
        "# Filling NaN (Not a Number) or empty values with 'None'\n",
        "sorted_df = sorted_df.fillna(\"None\")\n",
        "\n",
        "# Printing the sorted and updated dataframe\n",
        "sorted_df"
      ],
      "execution_count": 4,
      "outputs": [
        {
          "output_type": "execute_result",
          "data": {
            "text/html": [
              "<div>\n",
              "<style scoped>\n",
              "    .dataframe tbody tr th:only-of-type {\n",
              "        vertical-align: middle;\n",
              "    }\n",
              "\n",
              "    .dataframe tbody tr th {\n",
              "        vertical-align: top;\n",
              "    }\n",
              "\n",
              "    .dataframe thead th {\n",
              "        text-align: right;\n",
              "    }\n",
              "</style>\n",
              "<table border=\"1\" class=\"dataframe\">\n",
              "  <thead>\n",
              "    <tr style=\"text-align: right;\">\n",
              "      <th></th>\n",
              "      <th>tx_id</th>\n",
              "      <th>fee</th>\n",
              "      <th>weight</th>\n",
              "      <th>parents</th>\n",
              "    </tr>\n",
              "  </thead>\n",
              "  <tbody>\n",
              "    <tr>\n",
              "      <th>2660</th>\n",
              "      <td>59f0495cf66d1864359dda816eb7189b9d9a3a9cd9dc50...</td>\n",
              "      <td>201700</td>\n",
              "      <td>1348</td>\n",
              "      <td>None</td>\n",
              "    </tr>\n",
              "    <tr>\n",
              "      <th>4693</th>\n",
              "      <td>3bfc4c22fc7aaded4b02c6a6d67b4a7bad297377e46e4c...</td>\n",
              "      <td>194166</td>\n",
              "      <td>3852</td>\n",
              "      <td>None</td>\n",
              "    </tr>\n",
              "    <tr>\n",
              "      <th>4877</th>\n",
              "      <td>87784075804f10dad1f815de867dde2875e73a13da798c...</td>\n",
              "      <td>107775</td>\n",
              "      <td>1660</td>\n",
              "      <td>None</td>\n",
              "    </tr>\n",
              "    <tr>\n",
              "      <th>4908</th>\n",
              "      <td>0c8ebf9c75f63b7e5ff176e2937f24c694aa6b3bde0e59...</td>\n",
              "      <td>104400</td>\n",
              "      <td>2084</td>\n",
              "      <td>None</td>\n",
              "    </tr>\n",
              "    <tr>\n",
              "      <th>5095</th>\n",
              "      <td>c3fef085fca34891e6456489d840ab68139b24857eb1f9...</td>\n",
              "      <td>100000</td>\n",
              "      <td>1148</td>\n",
              "      <td>None</td>\n",
              "    </tr>\n",
              "    <tr>\n",
              "      <th>...</th>\n",
              "      <td>...</td>\n",
              "      <td>...</td>\n",
              "      <td>...</td>\n",
              "      <td>...</td>\n",
              "    </tr>\n",
              "    <tr>\n",
              "      <th>816</th>\n",
              "      <td>dbf57df85f4292e2211439f44974f3d99df18fbbe30f05...</td>\n",
              "      <td>114</td>\n",
              "      <td>452</td>\n",
              "      <td>None</td>\n",
              "    </tr>\n",
              "    <tr>\n",
              "      <th>883</th>\n",
              "      <td>67d2b9c9c9755ecd55d7528f576845eb2f3d982b25c23f...</td>\n",
              "      <td>111</td>\n",
              "      <td>444</td>\n",
              "      <td>None</td>\n",
              "    </tr>\n",
              "    <tr>\n",
              "      <th>1664</th>\n",
              "      <td>89fa28f476f4f7fea0ffd3d8e687a1bf94e1ed96cb357d...</td>\n",
              "      <td>111</td>\n",
              "      <td>440</td>\n",
              "      <td>None</td>\n",
              "    </tr>\n",
              "    <tr>\n",
              "      <th>1662</th>\n",
              "      <td>62e84b510b0d3e05725d2e626709cee88b9d5f78956656...</td>\n",
              "      <td>111</td>\n",
              "      <td>440</td>\n",
              "      <td>None</td>\n",
              "    </tr>\n",
              "    <tr>\n",
              "      <th>1603</th>\n",
              "      <td>40f0adf2aa2c6ec6884639c547ae304f6f8d44d09e6fe5...</td>\n",
              "      <td>110</td>\n",
              "      <td>440</td>\n",
              "      <td>None</td>\n",
              "    </tr>\n",
              "  </tbody>\n",
              "</table>\n",
              "<p>5214 rows × 4 columns</p>\n",
              "</div>"
            ],
            "text/plain": [
              "                                                  tx_id  ...  parents \n",
              "2660  59f0495cf66d1864359dda816eb7189b9d9a3a9cd9dc50...  ...      None\n",
              "4693  3bfc4c22fc7aaded4b02c6a6d67b4a7bad297377e46e4c...  ...      None\n",
              "4877  87784075804f10dad1f815de867dde2875e73a13da798c...  ...      None\n",
              "4908  0c8ebf9c75f63b7e5ff176e2937f24c694aa6b3bde0e59...  ...      None\n",
              "5095  c3fef085fca34891e6456489d840ab68139b24857eb1f9...  ...      None\n",
              "...                                                 ...  ...       ...\n",
              "816   dbf57df85f4292e2211439f44974f3d99df18fbbe30f05...  ...      None\n",
              "883   67d2b9c9c9755ecd55d7528f576845eb2f3d982b25c23f...  ...      None\n",
              "1664  89fa28f476f4f7fea0ffd3d8e687a1bf94e1ed96cb357d...  ...      None\n",
              "1662  62e84b510b0d3e05725d2e626709cee88b9d5f78956656...  ...      None\n",
              "1603  40f0adf2aa2c6ec6884639c547ae304f6f8d44d09e6fe5...  ...      None\n",
              "\n",
              "[5214 rows x 4 columns]"
            ]
          },
          "metadata": {
            "tags": []
          },
          "execution_count": 4
        }
      ]
    },
    {
      "cell_type": "code",
      "metadata": {
        "colab": {
          "base_uri": "https://localhost:8080/",
          "height": 402
        },
        "id": "A23a8qczhAdc",
        "outputId": "e75c5091-908c-460e-a189-f30df091168c"
      },
      "source": [
        "# Resetting the index of transactions in dataframe\n",
        "sorted_df.reset_index(inplace = True)\n",
        "\n",
        "# Printing the reset-indexed dataframe\n",
        "sorted_df"
      ],
      "execution_count": 5,
      "outputs": [
        {
          "output_type": "execute_result",
          "data": {
            "text/html": [
              "<div>\n",
              "<style scoped>\n",
              "    .dataframe tbody tr th:only-of-type {\n",
              "        vertical-align: middle;\n",
              "    }\n",
              "\n",
              "    .dataframe tbody tr th {\n",
              "        vertical-align: top;\n",
              "    }\n",
              "\n",
              "    .dataframe thead th {\n",
              "        text-align: right;\n",
              "    }\n",
              "</style>\n",
              "<table border=\"1\" class=\"dataframe\">\n",
              "  <thead>\n",
              "    <tr style=\"text-align: right;\">\n",
              "      <th></th>\n",
              "      <th>index</th>\n",
              "      <th>tx_id</th>\n",
              "      <th>fee</th>\n",
              "      <th>weight</th>\n",
              "      <th>parents</th>\n",
              "    </tr>\n",
              "  </thead>\n",
              "  <tbody>\n",
              "    <tr>\n",
              "      <th>0</th>\n",
              "      <td>2660</td>\n",
              "      <td>59f0495cf66d1864359dda816eb7189b9d9a3a9cd9dc50...</td>\n",
              "      <td>201700</td>\n",
              "      <td>1348</td>\n",
              "      <td>None</td>\n",
              "    </tr>\n",
              "    <tr>\n",
              "      <th>1</th>\n",
              "      <td>4693</td>\n",
              "      <td>3bfc4c22fc7aaded4b02c6a6d67b4a7bad297377e46e4c...</td>\n",
              "      <td>194166</td>\n",
              "      <td>3852</td>\n",
              "      <td>None</td>\n",
              "    </tr>\n",
              "    <tr>\n",
              "      <th>2</th>\n",
              "      <td>4877</td>\n",
              "      <td>87784075804f10dad1f815de867dde2875e73a13da798c...</td>\n",
              "      <td>107775</td>\n",
              "      <td>1660</td>\n",
              "      <td>None</td>\n",
              "    </tr>\n",
              "    <tr>\n",
              "      <th>3</th>\n",
              "      <td>4908</td>\n",
              "      <td>0c8ebf9c75f63b7e5ff176e2937f24c694aa6b3bde0e59...</td>\n",
              "      <td>104400</td>\n",
              "      <td>2084</td>\n",
              "      <td>None</td>\n",
              "    </tr>\n",
              "    <tr>\n",
              "      <th>4</th>\n",
              "      <td>5095</td>\n",
              "      <td>c3fef085fca34891e6456489d840ab68139b24857eb1f9...</td>\n",
              "      <td>100000</td>\n",
              "      <td>1148</td>\n",
              "      <td>None</td>\n",
              "    </tr>\n",
              "    <tr>\n",
              "      <th>...</th>\n",
              "      <td>...</td>\n",
              "      <td>...</td>\n",
              "      <td>...</td>\n",
              "      <td>...</td>\n",
              "      <td>...</td>\n",
              "    </tr>\n",
              "    <tr>\n",
              "      <th>5209</th>\n",
              "      <td>816</td>\n",
              "      <td>dbf57df85f4292e2211439f44974f3d99df18fbbe30f05...</td>\n",
              "      <td>114</td>\n",
              "      <td>452</td>\n",
              "      <td>None</td>\n",
              "    </tr>\n",
              "    <tr>\n",
              "      <th>5210</th>\n",
              "      <td>883</td>\n",
              "      <td>67d2b9c9c9755ecd55d7528f576845eb2f3d982b25c23f...</td>\n",
              "      <td>111</td>\n",
              "      <td>444</td>\n",
              "      <td>None</td>\n",
              "    </tr>\n",
              "    <tr>\n",
              "      <th>5211</th>\n",
              "      <td>1664</td>\n",
              "      <td>89fa28f476f4f7fea0ffd3d8e687a1bf94e1ed96cb357d...</td>\n",
              "      <td>111</td>\n",
              "      <td>440</td>\n",
              "      <td>None</td>\n",
              "    </tr>\n",
              "    <tr>\n",
              "      <th>5212</th>\n",
              "      <td>1662</td>\n",
              "      <td>62e84b510b0d3e05725d2e626709cee88b9d5f78956656...</td>\n",
              "      <td>111</td>\n",
              "      <td>440</td>\n",
              "      <td>None</td>\n",
              "    </tr>\n",
              "    <tr>\n",
              "      <th>5213</th>\n",
              "      <td>1603</td>\n",
              "      <td>40f0adf2aa2c6ec6884639c547ae304f6f8d44d09e6fe5...</td>\n",
              "      <td>110</td>\n",
              "      <td>440</td>\n",
              "      <td>None</td>\n",
              "    </tr>\n",
              "  </tbody>\n",
              "</table>\n",
              "<p>5214 rows × 5 columns</p>\n",
              "</div>"
            ],
            "text/plain": [
              "      index                                              tx_id  ...  weight  parents \n",
              "0      2660  59f0495cf66d1864359dda816eb7189b9d9a3a9cd9dc50...  ...    1348      None\n",
              "1      4693  3bfc4c22fc7aaded4b02c6a6d67b4a7bad297377e46e4c...  ...    3852      None\n",
              "2      4877  87784075804f10dad1f815de867dde2875e73a13da798c...  ...    1660      None\n",
              "3      4908  0c8ebf9c75f63b7e5ff176e2937f24c694aa6b3bde0e59...  ...    2084      None\n",
              "4      5095  c3fef085fca34891e6456489d840ab68139b24857eb1f9...  ...    1148      None\n",
              "...     ...                                                ...  ...     ...       ...\n",
              "5209    816  dbf57df85f4292e2211439f44974f3d99df18fbbe30f05...  ...     452      None\n",
              "5210    883  67d2b9c9c9755ecd55d7528f576845eb2f3d982b25c23f...  ...     444      None\n",
              "5211   1664  89fa28f476f4f7fea0ffd3d8e687a1bf94e1ed96cb357d...  ...     440      None\n",
              "5212   1662  62e84b510b0d3e05725d2e626709cee88b9d5f78956656...  ...     440      None\n",
              "5213   1603  40f0adf2aa2c6ec6884639c547ae304f6f8d44d09e6fe5...  ...     440      None\n",
              "\n",
              "[5214 rows x 5 columns]"
            ]
          },
          "metadata": {
            "tags": []
          },
          "execution_count": 5
        }
      ]
    },
    {
      "cell_type": "code",
      "metadata": {
        "id": "4Hoi__MEPBy3"
      },
      "source": [
        "# Traversing through dataframe to create a set of transaction ids as per the challenge requirements\n",
        "for i in range(len(sorted_df)): # Traversing through dataframe\n",
        "\n",
        "  if ( (block_weight + (sorted_df['weight'][i])) <= max_weight ): # Check if the addition of this transaction will cross the max-weight value (if not, continue)\n",
        "\n",
        "    temp_parent = sorted_df.iloc[:, 4][i] # Take parents of the transaction into a variable\n",
        "\n",
        "    if (allow_tx(temp_parent)): # checking if the parent transactions are present earlier\n",
        "\n",
        "      # If all conditions are satisfied, move forward with adding the transaction to block transaction list.\n",
        "\n",
        "      block_weight += sorted_df['weight'][i] # Adding transaction weight to block weight\n",
        "      block_fee += sorted_df['fee'][i] # Adding transaction fee to block fee\n",
        "      included_transactions.append(sorted_df['tx_id'][i]) # Adding transaction id to block transaction-ids\n",
        "\n",
        "      # This addition to global variables will help in dynamic checking and addition process of transaction-ids due to constant updates in global variables"
      ],
      "execution_count": 6,
      "outputs": []
    },
    {
      "cell_type": "code",
      "metadata": {
        "colab": {
          "base_uri": "https://localhost:8080/"
        },
        "id": "LjDqxJGHn8VA",
        "outputId": "4e45852d-12d4-45f7-9879-43dda23962f8"
      },
      "source": [
        "print(\"\\n\")\n",
        "print(\"The total miner fee for the block :\", block_fee)\n",
        "print(\"\\n\")\n",
        "print(\"The total weight for the block :\", block_weight)\n",
        "print(\"\\n\")"
      ],
      "execution_count": 7,
      "outputs": [
        {
          "output_type": "stream",
          "text": [
            "\n",
            "\n",
            "The total miner fee for the block : 2951357\n",
            "\n",
            "\n",
            "The total weight for the block : 3999912\n",
            "\n",
            "\n"
          ],
          "name": "stdout"
        }
      ]
    },
    {
      "cell_type": "code",
      "metadata": {
        "colab": {
          "base_uri": "https://localhost:8080/"
        },
        "id": "bJtZB7DmzMRS",
        "outputId": "95fb5a30-4587-40af-eefd-80ac44f8b737"
      },
      "source": [
        "print(\"The number of transactions in the block :\", len(included_transactions))"
      ],
      "execution_count": 8,
      "outputs": [
        {
          "output_type": "stream",
          "text": [
            "The number of transactions in the block : 153\n"
          ],
          "name": "stdout"
        }
      ]
    },
    {
      "cell_type": "code",
      "metadata": {
        "colab": {
          "base_uri": "https://localhost:8080/"
        },
        "id": "pEjAlt3IQ5tP",
        "outputId": "a5db48e0-bf27-4272-9546-7c74228915ff"
      },
      "source": [
        "print(\"The list of transactions included in the block : \")\n",
        "print(\"\\n\")\n",
        "included_transactions"
      ],
      "execution_count": 9,
      "outputs": [
        {
          "output_type": "stream",
          "text": [
            "The list of transactions included in the block : \n",
            "\n",
            "\n"
          ],
          "name": "stdout"
        },
        {
          "output_type": "execute_result",
          "data": {
            "text/plain": [
              "['59f0495cf66d1864359dda816eb7189b9d9a3a9cd9dc50a3707776b41a6c815b',\n",
              " '3bfc4c22fc7aaded4b02c6a6d67b4a7bad297377e46e4c300208f3bc3d65aae1',\n",
              " '87784075804f10dad1f815de867dde2875e73a13da798c317fcddd75e03efc95',\n",
              " '0c8ebf9c75f63b7e5ff176e2937f24c694aa6b3bde0e59b5647983bbb7dd38d6',\n",
              " 'c3fef085fca34891e6456489d840ab68139b24857eb1f925b943066ebb988732',\n",
              " '826c80c43044cc00bebdf021a42dca6946591f02710e4e6da58c094be8e62d00',\n",
              " '2a75876d05905369cda2997032a66e0a0f12253aa5736a23c005d26b22983c1a',\n",
              " '6a709ddadfcf13b2e302cf0f75163538b0273923cc55fccc158f7466abebc1a9',\n",
              " 'de669dad7f8d8b37a789cb8f86ddd62b93b7b8323d90ff29fa61ca1f41f8c73f',\n",
              " 'b8894fbe99628c253fa93cf178679727e117d04fea5e5079de002548a0dd6511',\n",
              " '8de07b4f7af6f61dfb0ac878ba45bd7b8b7184a1376e5286c90cd983679447f5',\n",
              " 'fac0417aafa46ea002ed3e04fc38087b45aca6a15a47bd4e5026e1e6cefa7967',\n",
              " 'f3c2f6cb4573cf137178f355af9301f3c0dbebf23c172804a894a7e4f899c110',\n",
              " '7f264c468f624b62071dbcb531de5af722b327d5b098f426314622340cf17512',\n",
              " '7a7fc507db228511f2bf1d36b3cbc8ec2cc93d2ea86e8afed5f98a4d83602c5d',\n",
              " '128ef32e064da2b40139ea8e71ee67a73062ee68ab183281d0d1ab7affe6c775',\n",
              " '1b732f5cee1df25358edcf94492e0bc454b0531514316c3400586c329899a0f1',\n",
              " 'f7d6053d97ab5c113b23c5b59daed275650253a4c3414b7227f6f0ff9c34a53a',\n",
              " '4e861a2201efaa7a8ec671924485f45b6fa66f3ed9b015a95c7aa073eca538aa',\n",
              " '6f4338ff2f475cd89efe98ee6a3a8cbdfbac8abadc5f71b393dad1e9a4f411aa',\n",
              " '671346a3a15ee138df436372867b5bb87d9fc1e4dcb32de24bf0e11782f46e4b',\n",
              " '09264c7fbca91de06dca916190bde4612b7ee873b12c9cd04a55a7b0d41ccde5',\n",
              " '846e6dbccb06faa9b83333c2fc2a6c1544fad5f0a9a5616f6fa1fca53c2744b0',\n",
              " '2858f0a19605fede1c37462f9e599efc6020dd00c66a4a20db8ff64888e506e8',\n",
              " '7c674bed714a08281921d6b0f11fac2fc07db4a120caf3357d4aa23b026bde2b',\n",
              " '7ca1ddd520cb690682ce5a7c17493321ad510b7190be86ef1f8fc1b0004cf871',\n",
              " 'fc54aafe611780ae7cd9f375f1cc07f4c1ade7d55ef6c59101721e3c0d728ebc',\n",
              " '58508eb3f2c9126fed6d468004b2f0faa4efdf63c22fb8c3b450427bb7d2c2b4',\n",
              " 'fe1360b0e758f8fa21781fd352213faf3676400a9415a319680664243b08cad1',\n",
              " '71135d5eea18edfaba370a457bc5135fdf97639b207dc682f940939743c9b32e',\n",
              " 'e4f3132c345739b91e630861da990b697f7f603bd7547da320abc5282a9af65b',\n",
              " '76f6a0108ee45eb20ac079f946ab6c38f9cd39ac0ecd6d549f52eb1c8fef0b5f',\n",
              " '2e0efa1da15f0cacfab7b71b89672180c9ef31281d2afb11efe8732f0a7c9888',\n",
              " '9c895e3dd3813657abdc2d057af1e8f8d1a23ad25b016687deed73af72a9941d',\n",
              " 'a72b7e7b0b56fbd63ba644ad2f434451a0b223b38bba6a24fb50933d7c8e1639',\n",
              " 'c6bcde6ce104df02a2c24df5ce54ef2088defa6a8cf38835548d25dabfd64b15',\n",
              " '8e407c281902ec6a7328a5af4900033616126d092a5ab7af1ee3e15816040acb',\n",
              " 'c23716da258e4665c88f8be37e94b2c365e720834eef16441f31b0da26d6fd84',\n",
              " 'd5cfc98274e0a7c3bf69d07151a09e132c112411d8e32c948798705c8b0b73a1',\n",
              " '2c1ef9b00878263d72281044b871ba8b113d5ed308ab644db81b16c7465bcee5',\n",
              " '4dffb545157fc1b58e60775b364f9b9c1202a99e97e9603a37620e603c166590',\n",
              " '9f32e44dbd0cee054006accf25bb266ddcbfc0a531663b4a1c8570926d91a407',\n",
              " '171ec1c462a1c017d374ede84ae5cf300c6ac6ac527628239249b70bbf572af4',\n",
              " '24e784e1c9373f72dcc8a6923bf5558ba7b544158b56e097ec393e8695b19a5e',\n",
              " '23ba66f7318fb0280d98cf7ed39c0b78b71f5c2cb328601efea2bd67c2d26c58',\n",
              " '49a9a2eaedd86dd7deb72ba84accbdf9bf70e0f908cc5f2fa988c5d6729db7dd',\n",
              " '0efc76bbc1f31a0a861ded348f511a3dbaeca8b129c9c9b1822e6d4137594249',\n",
              " '9c31e9d5f87a3834601392b3c0da4ad530779c47072ef1e558abb817dce2e806',\n",
              " 'f4ca46d9d20e4cf4c1628e537d5586932f5124cdaef7ba99cadfc447c12d490e',\n",
              " 'a3b9471f5aaafaee61e6d2136cfe652dcf960d02b987b7bd637fd52907f971be',\n",
              " '91ad296c6835469f490d6f03bf292adf0ace10d50e80a20bc53dc6e5f68d3e8b',\n",
              " '0c883e7421d4617d083bbc3eb4d9143f84fe590ee6bccc12126af8cf90b3eeb0',\n",
              " '4a803f92629a991890d6437003f706e4ef3d9b89392ad20045d1f2f87dadd8be',\n",
              " 'e4b64c597038654b0c3ad0aed656fc849c2e6c762c44b5f9fbba16925614a368',\n",
              " '1b2c47d1de1182f59736572c706b493aabe6cda635785ec0e24d2af9deb61665',\n",
              " '5efedb5a50d5f45fb1b9e515dee83881a8f844c032ea595201b90e9dc4e30e8a',\n",
              " '44c2bc9d8e3521546929f5c8b7f3c4bd4720eab520045fc07fdce743480bb836',\n",
              " 'bbd78e454cc92991f18ea0c9fc6c1afd593970ed2cb03837213ce0824de96ff9',\n",
              " '9589f07e98a082872bfc0e3cc6be882abaa0f5afb1a12cf08b219492282fbf64',\n",
              " 'f0ca5d078087ec7962295444b2c67a4b3efe7ab42dc10375020ea7f694dbb900',\n",
              " '236a0d0bb7c195a7b3804115aedd83dae4a59744fe0dc6f08eb876c2b2fa40a2',\n",
              " '7250c82dba7ab477e7914c061c6d62effabd6318db5609600534c499817a64c0',\n",
              " '4ac174e389822a866a8b7bff55b3c995515068f051163ff83b6cb51a9027d075',\n",
              " '36f67ec0c1c59adf86629f9d3331e9a8f2750fce31c3c5d6787241d0eb34554a',\n",
              " 'afe2f9d0e9f9b145ccf006135183cb98b0814a6cd30476d21160c2a6af49a2a8',\n",
              " 'c7f054baf415e685f613b0ca86ee3e6ad6b92004a6558ecdd06c8e84fb7b4919',\n",
              " '86e870ea77d4cb30770d2cf302a63e9b15348e43776942cf560f76e437888f4b',\n",
              " '63ed5cc54d357c1ef6c7f25de4b682ad93645ccf2d492634e3ab39a54fcfb52c',\n",
              " 'edd5c4ab744ece9b797578fbb325ecfeacafd7f6ccf79c602ff9a9d5effa0f1f',\n",
              " 'be734da9572cdf7d9a63d11ca0995e2b16386f608b360858e484ac6e770ea72e',\n",
              " 'cd476e94825d0cdd1c6812a87929499b87619429082f63f389d249c447ce4ef6',\n",
              " '09b6dbd7ca0f44ec9131c94490521d6e7ca70001a839e18dfd1ad918b1bd32c8',\n",
              " '90a0a7443d3f4ac07953bd493e1b448c6b90f967404ba0fe2074cb1445c43454',\n",
              " '6c2efb4ab5c088adf14d141afdc9a3aa60107ffa624e5670ee5bb9cfcfc51eae',\n",
              " 'd13b10e21cb78cd556936f5d150e00c3657634a5d3e32ced0be0fc2a0c39626e',\n",
              " 'd7209cd39f41123a14c415f2ac2174ee65f8bf0b0177414dddac6a43270cae1f',\n",
              " 'b477b8c158464f3f02b3327e0429ac220b231e1e092dacaaeeff39066184d3e3',\n",
              " '58b2597bd280f6754ad27627eeb295b41b8f4337bed24fd0b0f2f71f503bb0d4',\n",
              " '1c55fb41206ddd743265a4a12c3abfbb7cfc2f598e4e54d8a351773577f63f58',\n",
              " 'ebbbc7329f309ccf3a506426d2aadef48dbd2de82ddd5d3e02dabe34aaccaf24',\n",
              " 'fc6973988d6bbfaf2db82cc3fd9f1da6299e808a427c1561c0caaff6718fb84a',\n",
              " '12cfdafe32b7c39c7558575369e1d740f3128ae2a271bb289304fdcbcfe6e735',\n",
              " '38af24759775ac240935290fedaf5acae76fe72aae8e5a97e751f02f154743c5',\n",
              " '1ac28cf95378aa3604e8d7f5868d4ed2bb740f486a377a428ed05c25c811d7ea',\n",
              " 'aa274f9b73536b9ce64e893f212a839d76ae61d91bdb7b6fa12e23b61b6d795f',\n",
              " '1242c6468526de9b8db8255b1ec43d8644e9c8fb736bf26a424d7909ff32255b',\n",
              " 'f6e0952e4dd74f19929785e5d23f8b7819314b3d3a815e275c9365b34eecea21',\n",
              " 'c336a8ebd6a146a4c4b83b8c50c8712636371665fb55fc4df683d5f520be1739',\n",
              " 'b2ef9b32e1a34e1102ef6173614d080591265a920b999b67d275a434ad8cffea',\n",
              " 'b7cbff6f5080597dba928da52ad430b7e7f9f016e4e3f4a9c30c302f5c9a6e93',\n",
              " '04f5bbbd7a7e65555e2f5ef9489b5c88d4e39984d1ef59de24c67af61106f3f0',\n",
              " '687154af503dea738ff595ee1f03f3123cabdd68995ee43dfc90be5b334ff329',\n",
              " '42124eef818db48bc0ca79403329dc82236bddad34c1ce288403af61ff607d75',\n",
              " 'b596b46204b631179d6f1f78d85fab9774841b747879f62755cff116dfc6f8e5',\n",
              " '806e80ee5602d6b3157c6591763ff24467e45ca2573d5a87d715a88e3163042e',\n",
              " '93c646437098aa40e4b0a0db93992960ae52d227abe54b50f6eaf8fe37bcac90',\n",
              " '67ca4f6b2dd2584352e458b0691930b2c829064c53fe405650997afdd28bd164',\n",
              " '5facb65c723169baf620cfaf4b93b18d56fe5a905cdacb3fd4e2968fa6ac04f0',\n",
              " '538282ee6fbe7fdcad9aabda2b5156a44a4cbf0ef2bf37da8fea4abe194db717',\n",
              " '746c2e8f5b1339b87408d5dc1176da399cd546cb8fa86539ba6196cc80260976',\n",
              " '345767c512579ca7ffccbe4db5f19f40f6af9c1f9ebf2e25937f9cc611abd7f6',\n",
              " '89db7a61873941a341f33618bf91a0b3d7e47ad9aa38a445db5bbffa0786098f',\n",
              " 'a20466866f8e9f26b74f59033cfe5637dc8caf45cde898d9886c62b3a24e0693',\n",
              " 'eb9e8e223cce3299195f7734b14f4835a44d641ca5ed90d39642ec8f9d98f96b',\n",
              " '6ce99ff8cb206627ecd156ee69ca98437550b523bb27376e25d94d38f7cb22d8',\n",
              " '043991fa19dc15b3c1259751998eff76d0d92608fcac330d6900610ddbd8cd6f',\n",
              " '552dc000ff0ed04dbf6204c627aedb5c3281225cc8f6e32ece14545d07b77208',\n",
              " '419351eccccc04953539735b2b720ce9992853711431db2067b22d089dd22f0e',\n",
              " 'f7e0ebfc47299108f791077ec765ee91dbb14b6e55821da6fb767adccb772686',\n",
              " '97f1fc3280f8eeeafa3b1cb87b83978f04efa0d96022cb833e141f57824cc064',\n",
              " 'a6d515018740a2edee99be33da2d15f49458c1cfb1ec719905cdcfcfa007fe9e',\n",
              " 'e4ff4e55af6928d6d62ecfe143c25bac69e3ca2fe7ba08a770436ef8e3a11eee',\n",
              " '658345d8281f9bab7f90edbfda9d8fb2aeb645c0a0ff55fed17f44ae3f0b2565',\n",
              " 'b0c7fdc8d0804adcc915efe954f6ec44419d2bf1775da3607d175074c1f65465',\n",
              " '3cd3be8cac215f92c98b9df50cfa82290065ceddbe5b430e61888ebaf362c2d8',\n",
              " 'a12de8b4c03f3a53600c06a784370d84f3d373c3af66aea8964d5c0500f052f8',\n",
              " '837a07f623be522f6c3e6bfb13849da826688b1f8802731b3bcdf6268788e755',\n",
              " 'f099a340322eb69152e91425fa3a469889d40167c6ca85b65e24af689cc636d2',\n",
              " '3301d68968b015e7e238191b846a0fac8bbc302251aa7b499359bd426b1cd76f',\n",
              " '06400868633b4047d6fc35271566d203f61081149269337288d0d5ea5f761ab3',\n",
              " '62e5265e7c8ce33e7d7424014c47418c6b9d04a5a46c60006186e36465d4e882',\n",
              " 'e8bf7839bb90c7559ea6f8a9c32a52c55c3a38c5789429ff166523a435439b7c',\n",
              " 'e6ecdcb03f578a400c38d28a2e44de6c21c18afea076a920334094c16e750b04',\n",
              " '0e43c7d1ce4b117eba26e2a7b9bc62bf673203ade310f1afd976dc84472eeec3',\n",
              " '8f3e8e9f82ae4f88a31ec67b44d3b52dd8aabc254f5e86207a72b312d7c7e129',\n",
              " '56d2728e5e6b9222355aec0045b73ac2a0c69f461a8631b62fe42a8defbfca71',\n",
              " '0e593c4881a3fa40b20229b9477b75db085d3cf093c0f5b8ff2ca0f595f22c8d',\n",
              " '3824ef6df2ac401cfcdea754fff7c13f873617b4576ea5777b4b4832154b5df7',\n",
              " '975bb1b684b9d7e13bc77f4cc2ffd6f24abb6a08d7fa4084174b4220a0118b54',\n",
              " 'ae039b500d050ac7ea7db3bc0878096fc591badec595bd291728a697cb4476af',\n",
              " 'dc6962ff695d40b4b9e623f081195165d0e78bc8b08f797ffbba74f5ea197386',\n",
              " '77ce1799b8113391aa52b383d1004bf456a78d20a78619316e4d69798bf8bbb5',\n",
              " '2cf55d307134501e50c52b0a0ef5cb43129db0c6d07ef482efa172a5b06017d6',\n",
              " '9eec4802488a7bc353e3bcf0c521acde2550297fd8a9bf1c45a26125ddef8dc3',\n",
              " 'c362084f66fcca04474eb3af8cdb02c45b77c206d808987886102059dd1fbf4a',\n",
              " 'bb4303b8e73dfa29b19a53f2ec07f0f23406b55d03895bb9fa2a8c6035dc0f5d',\n",
              " '2d07dd8a884b9437dcfda1a6f69fb16b8d4db22c5f4dbd7c3184c8e86e5f36dc',\n",
              " '85a92d7c5adc8fc96e471e6132af00d8d9038a843d4b6c06c68d3ae22e0541ae',\n",
              " 'c2f21b4f3d136392071fe03cde23ab0dd575c055b2f70b90913a20e903ee70f2',\n",
              " '991b7080f45b312687b94025a202d9a86fb80c880a4891268544eebdff6858e7',\n",
              " 'ac0e002a08c7e1ea8ecc7ba4ea4e477751b161c909adfe1e70ab9374faf72d39',\n",
              " '12bfaccecfd4355bde2e4073015624a131d23a33e30160da25ca1ff78cebf4b4',\n",
              " '573bd82b65d312ac1f0ff5e502937200963e87467a954e8f41296acfcbcc5cb8',\n",
              " '82ae3ab0db20ff81110dc62e4d4b943197f44e364ecd2a8d82d8400d5842a63f',\n",
              " 'cbacf7645d5e443210bcfb16dee9ea76c60cd66c3f7b3f681875690c854a29e3',\n",
              " '38aca0b104ac68346baac53c6190929c62632d94d9fa28338012ce80cfdc1807',\n",
              " '93eddcdbd3db250d1ff74f8ddd85a17757bbb6b0319e7cab9f6556b2d0caf8e2',\n",
              " '94923fb74c408a4385afbd51bd79edc64c8b7a1c2341e4ce14e7822349303859',\n",
              " 'd0df5e7efc3f3c88a1e88dace163200237c7dfc4d14838248958c01cdc3fb58f',\n",
              " 'b88e1d14fde8ce291be7522c9e5712050dbeb8ef8122ad8d80dfb7002df66593',\n",
              " 'ac0a5036ecc0e5c93016cf509848c440f4533d71af0ef5088ab353f2025262b7',\n",
              " '818459a7a7e0daf268f181298bbae49c6bbab3722e75c0b657835eac163be96f',\n",
              " '61102dc5f18bf834e3178358dd79435e226e05775d022152d57f5f8463651358']"
            ]
          },
          "metadata": {
            "tags": []
          },
          "execution_count": 9
        }
      ]
    },
    {
      "cell_type": "code",
      "metadata": {
        "colab": {
          "base_uri": "https://localhost:8080/"
        },
        "id": "1e-FR-UNss2y",
        "outputId": "fe5ad4af-dd63-4003-de38-2330d9ba4855"
      },
      "source": [
        "# Adding '\\n' to end of each transaction\n",
        "write_data = []\n",
        "for i in included_transactions:\n",
        "  temp = i + \"\\n\"\n",
        "  write_data.append(temp)\n",
        "\n",
        "# Writing all the transaction ids to block.txt\n",
        "with open(\"block.txt\",'w') as f:\n",
        "  for line in write_data:\n",
        "    f.write(line)\n",
        "\n",
        "print(\"File write process successful!\")"
      ],
      "execution_count": 10,
      "outputs": [
        {
          "output_type": "stream",
          "text": [
            "File write process successful!\n"
          ],
          "name": "stdout"
        }
      ]
    },
    {
      "cell_type": "code",
      "metadata": {
        "colab": {
          "base_uri": "https://localhost:8080/",
          "height": 17
        },
        "id": "PzDG65KrzGFJ",
        "outputId": "66521bd9-d566-4e06-998f-18d6d0412878"
      },
      "source": [
        "# Downloading the updated block.txt file\n",
        "from google.colab import files\n",
        "files.download('block.txt')"
      ],
      "execution_count": 11,
      "outputs": [
        {
          "output_type": "display_data",
          "data": {
            "application/javascript": [
              "\n",
              "    async function download(id, filename, size) {\n",
              "      if (!google.colab.kernel.accessAllowed) {\n",
              "        return;\n",
              "      }\n",
              "      const div = document.createElement('div');\n",
              "      const label = document.createElement('label');\n",
              "      label.textContent = `Downloading \"${filename}\": `;\n",
              "      div.appendChild(label);\n",
              "      const progress = document.createElement('progress');\n",
              "      progress.max = size;\n",
              "      div.appendChild(progress);\n",
              "      document.body.appendChild(div);\n",
              "\n",
              "      const buffers = [];\n",
              "      let downloaded = 0;\n",
              "\n",
              "      const channel = await google.colab.kernel.comms.open(id);\n",
              "      // Send a message to notify the kernel that we're ready.\n",
              "      channel.send({})\n",
              "\n",
              "      for await (const message of channel.messages) {\n",
              "        // Send a message to notify the kernel that we're ready.\n",
              "        channel.send({})\n",
              "        if (message.buffers) {\n",
              "          for (const buffer of message.buffers) {\n",
              "            buffers.push(buffer);\n",
              "            downloaded += buffer.byteLength;\n",
              "            progress.value = downloaded;\n",
              "          }\n",
              "        }\n",
              "      }\n",
              "      const blob = new Blob(buffers, {type: 'application/binary'});\n",
              "      const a = document.createElement('a');\n",
              "      a.href = window.URL.createObjectURL(blob);\n",
              "      a.download = filename;\n",
              "      div.appendChild(a);\n",
              "      a.click();\n",
              "      div.remove();\n",
              "    }\n",
              "  "
            ],
            "text/plain": [
              "<IPython.core.display.Javascript object>"
            ]
          },
          "metadata": {
            "tags": []
          }
        },
        {
          "output_type": "display_data",
          "data": {
            "application/javascript": [
              "download(\"download_b025d3cc-9ec0-48dc-a8ae-deac9056adf3\", \"block.txt\", 9945)"
            ],
            "text/plain": [
              "<IPython.core.display.Javascript object>"
            ]
          },
          "metadata": {
            "tags": []
          }
        }
      ]
    },
    {
      "cell_type": "markdown",
      "metadata": {
        "id": "58HQVPELzWZB"
      },
      "source": [
        "# **Thank you!**\n",
        "\n",
        "---"
      ]
    }
  ]
}